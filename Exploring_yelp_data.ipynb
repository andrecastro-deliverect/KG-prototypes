{
 "cells": [
  {
   "cell_type": "markdown",
   "metadata": {},
   "source": [
    "# SPARQL Queries to Yelp Businesses and Reviews in Boston\n"
   ]
  },
  {
   "cell_type": "code",
   "execution_count": 28,
   "metadata": {},
   "outputs": [],
   "source": [
    "from SPARQLWrapper import SPARQLWrapper, JSON\n",
    "\n",
    "yelp_sparql_endpoint = 'http://192.168.60.113/jena/fuseki/yelp_Boston/query'\n",
    "\n",
    "def sparql_query(endpoint, query):\n",
    "    sparql = SPARQLWrapper(endpoint)\n",
    "    sparql.setQuery(query)\n",
    "    sparql.setReturnFormat(JSON)\n",
    "    results = sparql.query().convert()\n",
    "    for result in results[\"results\"][\"bindings\"]:\n",
    "        yield result\n"
   ]
  },
  {
   "cell_type": "code",
   "execution_count": 29,
   "metadata": {},
   "outputs": [
    {
     "name": "stdout",
     "output_type": "stream",
     "text": [
      "\n",
      "------ 1 Business -----\n",
      "\n",
      "b0 http://www.w3.org/1999/02/22-rdf-syntax-ns#type https://myontology.com#business\n",
      "b0 https://myontology.com#address 1 Harborside Dr\n",
      "b0 https://myontology.com#attributes b1\n",
      "b0 https://myontology.com#business_id jGennaZUr2MsJyRhijNBfA\n",
      "b0 https://myontology.com#categories Sandwiches, Food, Restaurants, Breakfast & Brunch, Seafood, Italian, Beer, Wine & Spirits, Cocktail Bars, Gluten-Free, Nightlife, Bars, Salad\n",
      "b0 https://myontology.com#city Boston\n",
      "b0 https://myontology.com#hours b2\n",
      "b0 https://myontology.com#is_open 1\n",
      "b0 https://myontology.com#latitude 42.36344\n",
      "b0 https://myontology.com#longitude -71.02578\n",
      "b0 https://myontology.com#name Legal Sea Foods\n",
      "b0 https://myontology.com#postal_code 02128\n",
      "b0 https://myontology.com#review_count 856\n",
      "b0 https://myontology.com#stars 3.5\n",
      "b0 https://myontology.com#state MA\n"
     ]
    }
   ],
   "source": [
    "\n",
    "business_id = \"jGennaZUr2MsJyRhijNBfA\"\n",
    "\n",
    "# 1 Business entry\n",
    "print(\"\\n------ 1 Business -----\\n\")\n",
    "query_1_business = \"\"\"\n",
    "PREFIX myonto: <https://myontology.com#>\n",
    "SELECT *\n",
    "WHERE {        \n",
    "    ?s a myonto:business ;\n",
    "        myonto:business_id '%s' ;\n",
    "        ?p ?v .\n",
    "}\n",
    "\"\"\" % business_id\n",
    "for result in sparql_query(endpoint=yelp_sparql_endpoint, query=query_1_business):\n",
    "    # print(result, '\\n')\n",
    "    print(result['s']['value'], result['p']['value'], result['v']['value'])\n"
   ]
  },
  {
   "cell_type": "code",
   "execution_count": 30,
   "metadata": {},
   "outputs": [
    {
     "name": "stdout",
     "output_type": "stream",
     "text": [
      "\n",
      "------ 1 Review -----\n",
      "\n",
      "b0 http://www.w3.org/1999/02/22-rdf-syntax-ns#type https://myontology.com#review\n",
      "b0 https://myontology.com#business_id jGennaZUr2MsJyRhijNBfA\n",
      "b0 https://myontology.com#stars 5.0\n",
      "b0 https://myontology.com#cool 0\n",
      "b0 https://myontology.com#date 2017-04-07 21:23:38\n",
      "b0 https://myontology.com#funny 0\n",
      "b0 https://myontology.com#review_id CuXWfJvlxOAqJvqqAsHvGQ\n",
      "b0 https://myontology.com#text Never in years of Legal Seafood dedication have I had a bad meal here, EVER. A crab roll comes on a \n",
      "b0 https://myontology.com#useful 1\n",
      "b0 https://myontology.com#user_id pDIZYh9dIWKc2qUHO7j9Ww\n"
     ]
    }
   ],
   "source": [
    "\n",
    "# 1 Review entry \n",
    "\n",
    "print(\"\\n------ 1 Review -----\\n\")\n",
    "\n",
    "review_id = 'CuXWfJvlxOAqJvqqAsHvGQ'\n",
    "query_1_review = \"\"\"\n",
    "PREFIX myonto: <https://myontology.com#>\n",
    "SELECT *\n",
    "WHERE {        \n",
    "    ?s a <https://myontology.com#review> ;\n",
    "        <https://myontology.com#business_id> '%s' ;\n",
    "        myonto:review_id '%s' ;\n",
    "        ?p ?v .  \n",
    "}\n",
    "\"\"\" % (business_id, review_id)\n",
    "\n",
    "for result in sparql_query(endpoint=yelp_sparql_endpoint, query=query_1_review):\n",
    "    # print(result, '\\n')\n",
    "    print(result['s']['value'], result['p']['value'], result['v']['value'][0:100])\n",
    "\n",
    "\n",
    "# total amount of Business\n",
    "\n",
    "# total amount of Reviews"
   ]
  },
  {
   "cell_type": "code",
   "execution_count": 31,
   "metadata": {},
   "outputs": [
    {
     "name": "stdout",
     "output_type": "stream",
     "text": [
      "\n",
      "------ 1 Business and its review ratings -----\n",
      "Legal Sea Foods\n",
      "review id: CuXWfJvlxOAqJvqqAsHvGQ rating: 5.0\n",
      "review id: aEQYyplGz49P27ReS-ZxPQ rating: 4.0\n",
      "review id: t9y73mLe2OVqJj77wmSOGA rating: 4.0\n",
      "review id: QY5stmVK2VbMcZgd3aCp1Q rating: 3.0\n",
      "review id: N9XGQ8XF0QbC-dUljbJGMQ rating: 3.0\n",
      "review id: KP-aaU1qyXX0vXYp-xoUpQ rating: 4.0\n",
      "review id: OxXxDy4v7u-hQpWiv8iD0w rating: 4.0\n",
      "review id: ZuqgEx6e17T0QoNE3b6vZA rating: 4.0\n",
      "review id: tFbkFDeA92rdsu7Gq_4WgA rating: 4.0\n",
      "review id: RowpRuXs3mZb4TxRAOqV6g rating: 4.0\n",
      "review id: zavJGqwNHKMopoA7wug3mw rating: 3.0\n",
      "review id: 4nYn5GPRUhHqKLtFybCR_w rating: 5.0\n",
      "review id: 1BKurTYVIxkGRYc4LpDPpg rating: 5.0\n",
      "review id: qHddOgaFwA94VYeYOIZOyA rating: 5.0\n",
      "review id: FH-PZcx6kZuMQEkzZ2Ur0g rating: 4.0\n",
      "review id: Uk3fndQZexMr6Y-eAmgahQ rating: 4.0\n",
      "review id: Bpsa9W74u1vTi2zPXRXdMw rating: 1.0\n",
      "review id: bXUkEyW81uBPgz4H0Ui1WA rating: 4.0\n",
      "review id: smi6_zjKbrZHzFEqXSDa0w rating: 4.0\n"
     ]
    }
   ],
   "source": [
    "# business and its review ratings\n",
    "print(\"\\n------ 1 Business and its review ratings -----\")\n",
    "query_business_ratings = \"\"\"\n",
    "PREFIX myonto: <https://myontology.com#>\n",
    "SELECT * WHERE {\n",
    "    { \n",
    "       ?b a myonto:business ;\n",
    "            myonto:business_id '%s' ;\n",
    "    \t\tmyonto:name ?name .\n",
    "    }\n",
    "    UNION\n",
    "    {\n",
    "        ?s a myonto:review ;\n",
    "            myonto:business_id '%s' ;\n",
    "            myonto:review_id ?review_id ;\n",
    "            myonto:stars ?stars .\n",
    "    } \n",
    "}\n",
    "\"\"\" % (business_id, business_id)\n",
    "name = [result['name']['value'] for result in sparql_query(endpoint=yelp_sparql_endpoint, query=query_business_ratings) if 'name' in result.keys()][0]\n",
    "print(name)\n",
    "ratings = [(float(result['stars']['value']), result['review_id']['value']) for result in sparql_query(endpoint=yelp_sparql_endpoint, query=query_business_ratings) if 'name' not in result.keys()]\n",
    "for r in ratings:\n",
    "    print(f\"review id: {r[1]} rating: {r[0]}\")\n"
   ]
  },
  {
   "cell_type": "code",
   "execution_count": 32,
   "metadata": {},
   "outputs": [
    {
     "name": "stdout",
     "output_type": "stream",
     "text": [
      "\n",
      "------ 1 Business MIN, MAX, AVERAGE review ratings -----\n",
      "Business jGennaZUr2MsJyRhijNBfA has a Rating: \n",
      "* Average of: 3.8947368\n",
      "* Minimum of: 1.0\n",
      "* Maximum of: 5.0\n",
      "In a total of 19 of reviews\n"
     ]
    }
   ],
   "source": [
    "# Avarage of a business's MIN, MAX, AVERAGE\n",
    "print(\"\\n------ 1 Business MIN, MAX, AVERAGE review ratings -----\")\n",
    "query_business_min_max = \"\"\"\n",
    "PREFIX myonto: <https://myontology.com#>\n",
    "SELECT (AVG(?stars) AS ?avg) \n",
    "       (MIN(?stars) AS ?min) \n",
    "       (MAX(?stars) AS ?max)\n",
    "       (COUNT(?review_id) as ?total)\n",
    "    WHERE  {     \n",
    "        ?s a myonto:review ;\n",
    "            myonto:business_id '%s' ;\n",
    "            myonto:review_id ?review_id ;\n",
    "            myonto:stars ?stars\n",
    "    } \n",
    "\"\"\" % (business_id)\n",
    "\n",
    "results = sparql_query(endpoint=yelp_sparql_endpoint, query=query_business_min_max)\n",
    "result = list(results)[0]\n",
    "formatted_result = f\"Business {business_id} has a Rating: \\n\\\n",
    "* Average of: {result['avg']['value']}\\n\\\n",
    "* Minimum of: {result['min']['value']}\\n\\\n",
    "* Maximum of: {result['max']['value']}\\n\\\n",
    "In a total of {result['total']['value']} of reviews\"\n",
    "print(formatted_result)\n"
   ]
  },
  {
   "cell_type": "code",
   "execution_count": 33,
   "metadata": {},
   "outputs": [
    {
     "name": "stdout",
     "output_type": "stream",
     "text": [
      "\n",
      "------ Average rating of all businesses in Boston -----\n",
      "Boston businesses have a Rating: \n",
      "* Average of 3.6159084\n",
      "* In a total of 2791 of Reviews\n",
      "* In a total of 439 Businesses\n"
     ]
    }
   ],
   "source": [
    "print(\"\\n------ Average rating of all businesses in Boston -----\")\n",
    "query_all_businesses_avg = \"\"\"\n",
    "PREFIX myonto: <https://myontology.com#>\n",
    "SELECT \n",
    "(AVG(?stars) AS ?avg_r) \n",
    "(COUNT(?r_id) AS ?total_r)\n",
    "(COUNT(DISTINCT ?b_id) AS ?total_b)\n",
    "# ?r_id ?r_b_id ?b_id ?stars\n",
    "\n",
    "WHERE  {\n",
    "    ?r a myonto:review ;\n",
    "       myonto:business_id ?b_id ;\n",
    "       myonto:review_id ?r_id ;\n",
    "       myonto:business_id ?r_b_id ; # ?b_id & ?r_b_id should match\n",
    "       myonto:stars ?stars .\n",
    "    {\n",
    "    SELECT ?b_id\n",
    "    WHERE {\n",
    "      ?s a myonto:business ;\n",
    "         myonto:business_id ?b_id ;\n",
    "         myonto:city \"Boston\" .\n",
    "      }\n",
    "    }\n",
    "} \n",
    "\"\"\"\n",
    "results = sparql_query(endpoint=yelp_sparql_endpoint, query=query_all_businesses_avg)\n",
    "# print(list(results))\n",
    "result = list(results)[0]\n",
    "formatted_result = f\"Boston businesses have a Rating: \\n\\\n",
    "* Average of {result['avg_r']['value']}\\n\\\n",
    "* In a total of {result['total_r']['value']} of Reviews\\n\\\n",
    "* In a total of {result['total_b']['value']} Businesses\"\n",
    "print(formatted_result)"
   ]
  },
  {
   "cell_type": "code",
   "execution_count": 34,
   "metadata": {},
   "outputs": [],
   "source": [
    "# the business with the highest ratings"
   ]
  },
  {
   "cell_type": "code",
   "execution_count": null,
   "metadata": {},
   "outputs": [],
   "source": []
  }
 ],
 "metadata": {
  "interpreter": {
   "hash": "8eb2675a5df9a26a2747e69653555a898d9ac1364378132190ff937f2b249625"
  },
  "kernelspec": {
   "display_name": "Python 3.9.9 64-bit ('venv': venv)",
   "language": "python",
   "name": "python3"
  },
  "language_info": {
   "codemirror_mode": {
    "name": "ipython",
    "version": 3
   },
   "file_extension": ".py",
   "mimetype": "text/x-python",
   "name": "python",
   "nbconvert_exporter": "python",
   "pygments_lexer": "ipython3",
   "version": "3.9.9"
  },
  "orig_nbformat": 4
 },
 "nbformat": 4,
 "nbformat_minor": 2
}
