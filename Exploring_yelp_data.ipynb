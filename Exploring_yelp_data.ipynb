{
 "cells": [
  {
   "cell_type": "markdown",
   "metadata": {},
   "source": [
    "# SPARQL Queries to Yelp Businesses and Reviews in Boston\n"
   ]
  },
  {
   "cell_type": "code",
   "execution_count": 8,
   "metadata": {},
   "outputs": [],
   "source": [
    "from SPARQLWrapper import SPARQLWrapper, JSON\n",
    "\n",
    "yelp_sparql_endpoint = 'http://192.168.60.113/jena/fuseki/yelp_Boston/query'\n",
    "\n",
    "def sparql_query(endpoint, query):\n",
    "    sparql = SPARQLWrapper(endpoint)\n",
    "    sparql.setQuery(query)\n",
    "    sparql.setReturnFormat(JSON)\n",
    "    results = sparql.query().convert()\n",
    "    for result in results[\"results\"][\"bindings\"]:\n",
    "        yield result\n"
   ]
  },
  {
   "cell_type": "code",
   "execution_count": 9,
   "metadata": {},
   "outputs": [
    {
     "name": "stdout",
     "output_type": "stream",
     "text": [
      "\n",
      "------ 1 Business -----\n",
      "\n",
      "b0 http://www.w3.org/1999/02/22-rdf-syntax-ns#type https://myontology.com#business\n",
      "b0 https://myontology.com#address 1 Harborside Dr\n",
      "b0 https://myontology.com#attributes b1\n",
      "b0 https://myontology.com#business_id jGennaZUr2MsJyRhijNBfA\n",
      "b0 https://myontology.com#categories Sandwiches, Food, Restaurants, Breakfast & Brunch, Seafood, Italian, Beer, Wine & Spirits, Cocktail Bars, Gluten-Free, Nightlife, Bars, Salad\n",
      "b0 https://myontology.com#city Boston\n",
      "b0 https://myontology.com#hours b2\n",
      "b0 https://myontology.com#is_open 1\n",
      "b0 https://myontology.com#latitude 42.36344\n",
      "b0 https://myontology.com#longitude -71.02578\n",
      "b0 https://myontology.com#name Legal Sea Foods\n",
      "b0 https://myontology.com#postal_code 02128\n",
      "b0 https://myontology.com#review_count 856\n",
      "b0 https://myontology.com#stars 3.5\n",
      "b0 https://myontology.com#state MA\n"
     ]
    }
   ],
   "source": [
    "\n",
    "business_id = \"jGennaZUr2MsJyRhijNBfA\"\n",
    "\n",
    "# 1 Business entry\n",
    "print(\"\\n------ 1 Business -----\\n\")\n",
    "query_1_business = \"\"\"\n",
    "PREFIX myonto: <https://myontology.com#>\n",
    "SELECT *\n",
    "WHERE {        \n",
    "    ?s a myonto:business ;\n",
    "        myonto:business_id '%s' ;\n",
    "        ?p ?v .\n",
    "}\n",
    "\"\"\" % business_id\n",
    "for result in sparql_query(endpoint=yelp_sparql_endpoint, query=query_1_business):\n",
    "    # print(result, '\\n')\n",
    "    print(result['s']['value'], result['p']['value'], result['v']['value'])\n"
   ]
  },
  {
   "cell_type": "code",
   "execution_count": 10,
   "metadata": {},
   "outputs": [
    {
     "name": "stdout",
     "output_type": "stream",
     "text": [
      "\n",
      "------ 1 Review -----\n",
      "\n",
      "b0 http://www.w3.org/1999/02/22-rdf-syntax-ns#type https://myontology.com#review\n",
      "b0 https://myontology.com#business_id jGennaZUr2MsJyRhijNBfA\n",
      "b0 https://myontology.com#stars 5.0\n",
      "b0 https://myontology.com#cool 0\n",
      "b0 https://myontology.com#date 2017-04-07 21:23:38\n",
      "b0 https://myontology.com#funny 0\n",
      "b0 https://myontology.com#review_id CuXWfJvlxOAqJvqqAsHvGQ\n",
      "b0 https://myontology.com#text Never in years of Legal Seafood dedication have I had a bad meal here, EVER. A crab roll comes on a \n",
      "b0 https://myontology.com#useful 1\n",
      "b0 https://myontology.com#user_id pDIZYh9dIWKc2qUHO7j9Ww\n"
     ]
    }
   ],
   "source": [
    "\n",
    "# 1 Review entry \n",
    "\n",
    "print(\"\\n------ 1 Review -----\\n\")\n",
    "\n",
    "review_id = 'CuXWfJvlxOAqJvqqAsHvGQ'\n",
    "query_1_review = \"\"\"\n",
    "PREFIX myonto: <https://myontology.com#>\n",
    "SELECT *\n",
    "WHERE {        \n",
    "    ?s a <https://myontology.com#review> ;\n",
    "        <https://myontology.com#business_id> '%s' ;\n",
    "        myonto:review_id '%s' ;\n",
    "        ?p ?v .  \n",
    "}\n",
    "\"\"\" % (business_id, review_id)\n",
    "\n",
    "for result in sparql_query(endpoint=yelp_sparql_endpoint, query=query_1_review):\n",
    "    # print(result, '\\n')\n",
    "    print(result['s']['value'], result['p']['value'], result['v']['value'][0:100])\n",
    "\n",
    "\n",
    "# total amount of Business\n",
    "\n",
    "# total amount of Reviews"
   ]
  },
  {
   "cell_type": "code",
   "execution_count": 11,
   "metadata": {},
   "outputs": [
    {
     "name": "stdout",
     "output_type": "stream",
     "text": [
      "\n",
      "------ 1 Business and its review ratings -----\n",
      "Legal Sea Foods\n",
      "review id: CuXWfJvlxOAqJvqqAsHvGQ rating: 5.0\n",
      "review id: aEQYyplGz49P27ReS-ZxPQ rating: 4.0\n",
      "review id: t9y73mLe2OVqJj77wmSOGA rating: 4.0\n",
      "review id: QY5stmVK2VbMcZgd3aCp1Q rating: 3.0\n",
      "review id: N9XGQ8XF0QbC-dUljbJGMQ rating: 3.0\n",
      "review id: KP-aaU1qyXX0vXYp-xoUpQ rating: 4.0\n",
      "review id: OxXxDy4v7u-hQpWiv8iD0w rating: 4.0\n",
      "review id: ZuqgEx6e17T0QoNE3b6vZA rating: 4.0\n",
      "review id: tFbkFDeA92rdsu7Gq_4WgA rating: 4.0\n",
      "review id: RowpRuXs3mZb4TxRAOqV6g rating: 4.0\n",
      "review id: zavJGqwNHKMopoA7wug3mw rating: 3.0\n",
      "review id: 4nYn5GPRUhHqKLtFybCR_w rating: 5.0\n",
      "review id: 1BKurTYVIxkGRYc4LpDPpg rating: 5.0\n",
      "review id: qHddOgaFwA94VYeYOIZOyA rating: 5.0\n",
      "review id: FH-PZcx6kZuMQEkzZ2Ur0g rating: 4.0\n",
      "review id: Uk3fndQZexMr6Y-eAmgahQ rating: 4.0\n",
      "review id: Bpsa9W74u1vTi2zPXRXdMw rating: 1.0\n",
      "review id: bXUkEyW81uBPgz4H0Ui1WA rating: 4.0\n",
      "review id: smi6_zjKbrZHzFEqXSDa0w rating: 4.0\n"
     ]
    }
   ],
   "source": [
    "# business and its review ratings\n",
    "print(\"\\n------ 1 Business and its review ratings -----\")\n",
    "query_business_ratings = \"\"\"\n",
    "PREFIX myonto: <https://myontology.com#>\n",
    "SELECT * WHERE {\n",
    "    { \n",
    "       ?b a myonto:business ;\n",
    "            myonto:business_id '%s' ;\n",
    "    \t\tmyonto:name ?name .\n",
    "    }\n",
    "    UNION\n",
    "    {\n",
    "        ?s a myonto:review ;\n",
    "            myonto:business_id '%s' ;\n",
    "            myonto:review_id ?review_id ;\n",
    "            myonto:stars ?stars .\n",
    "    } \n",
    "}\n",
    "\"\"\" % (business_id, business_id)\n",
    "name = [result['name']['value'] for result in sparql_query(endpoint=yelp_sparql_endpoint, query=query_business_ratings) if 'name' in result.keys()][0]\n",
    "print(name)\n",
    "ratings = [(float(result['stars']['value']), result['review_id']['value']) for result in sparql_query(endpoint=yelp_sparql_endpoint, query=query_business_ratings) if 'name' not in result.keys()]\n",
    "for r in ratings:\n",
    "    print(f\"review id: {r[1]} rating: {r[0]}\")\n"
   ]
  },
  {
   "cell_type": "code",
   "execution_count": 12,
   "metadata": {},
   "outputs": [
    {
     "name": "stdout",
     "output_type": "stream",
     "text": [
      "\n",
      "------ 1 Business MIN, MAX, AVERAGE review ratings -----\n",
      "Business jGennaZUr2MsJyRhijNBfA has a Rating: \n",
      "* Average of: 3.8947368\n",
      "* Minimum of: 1.0\n",
      "* Maximum of: 5.0\n",
      "In a total of 19 of reviews\n"
     ]
    }
   ],
   "source": [
    "# Avarage of a business's MIN, MAX, AVERAGE\n",
    "print(\"\\n------ 1 Business MIN, MAX, AVERAGE review ratings -----\")\n",
    "query_business_min_max = \"\"\"\n",
    "PREFIX myonto: <https://myontology.com#>\n",
    "SELECT (AVG(?stars) AS ?avg) \n",
    "       (MIN(?stars) AS ?min) \n",
    "       (MAX(?stars) AS ?max)\n",
    "       (COUNT(?review_id) as ?total)\n",
    "    WHERE  {     \n",
    "        ?s a myonto:review ;\n",
    "            myonto:business_id '%s' ;\n",
    "            myonto:review_id ?review_id ;\n",
    "            myonto:stars ?stars\n",
    "    } \n",
    "\"\"\" % (business_id)\n",
    "\n",
    "results = sparql_query(endpoint=yelp_sparql_endpoint, query=query_business_min_max)\n",
    "result = list(results)[0]\n",
    "formatted_result = f\"Business {business_id} has a Rating: \\n\\\n",
    "* Average of: {result['avg']['value']}\\n\\\n",
    "* Minimum of: {result['min']['value']}\\n\\\n",
    "* Maximum of: {result['max']['value']}\\n\\\n",
    "In a total of {result['total']['value']} of reviews\"\n",
    "print(formatted_result)\n"
   ]
  },
  {
   "cell_type": "code",
   "execution_count": 13,
   "metadata": {},
   "outputs": [
    {
     "name": "stdout",
     "output_type": "stream",
     "text": [
      "\n",
      "------ Average rating of all businesses in Boston -----\n",
      "Boston businesses have a Rating: \n",
      "* Average of 3.6159084\n",
      "* In a total of 2791 of Reviews\n",
      "* In a total of 439 Businesses\n"
     ]
    }
   ],
   "source": [
    "print(\"\\n------ Average rating of all businesses in Boston -----\")\n",
    "query_all_businesses_avg = \"\"\"\n",
    "PREFIX myonto: <https://myontology.com#>\n",
    "SELECT \n",
    "(AVG(?stars) AS ?avg_r) \n",
    "(COUNT(?r_id) AS ?total_r)\n",
    "(COUNT(DISTINCT ?b_id) AS ?total_b)\n",
    "# ?r_id ?r_b_id ?b_id ?stars\n",
    "\n",
    "WHERE  {\n",
    "    ?r a myonto:review ;\n",
    "       myonto:business_id ?b_id ;\n",
    "       myonto:review_id ?r_id ;\n",
    "       myonto:business_id ?r_b_id ; # ?b_id & ?r_b_id should match\n",
    "       myonto:stars ?stars .\n",
    "    {\n",
    "    SELECT ?b_id\n",
    "    WHERE {\n",
    "      ?s a myonto:business ;\n",
    "         myonto:business_id ?b_id ;\n",
    "         myonto:city \"Boston\" .\n",
    "      }\n",
    "    }\n",
    "} \n",
    "\"\"\"\n",
    "results = sparql_query(endpoint=yelp_sparql_endpoint, query=query_all_businesses_avg)\n",
    "# print(list(results))\n",
    "result = list(results)[0]\n",
    "formatted_result = f\"Boston businesses have a Rating: \\n\\\n",
    "* Average of {result['avg_r']['value']}\\n\\\n",
    "* In a total of {result['total_r']['value']} of Reviews\\n\\\n",
    "* In a total of {result['total_b']['value']} Businesses\"\n",
    "print(formatted_result)"
   ]
  },
  {
   "cell_type": "code",
   "execution_count": 15,
   "metadata": {},
   "outputs": [
    {
     "name": "stdout",
     "output_type": "stream",
     "text": [
      "\n",
      "------ Other Businesses did reviewrs of a business review -----\n",
      "[{'r_user': {'type': 'literal', 'value': '7gDAcB7S_kHZUivuibjdVg'}, 'r_b_id': {'type': 'literal', 'value': '-1DE1NuBc3EKfOpEQ6xsHw'}, 'u_b_id': {'type': 'literal', 'value': 'OtDbf2sYiLVtDYOFVnU3gA'}, 'other_r_id': {'type': 'literal', 'value': 'VAOaBLUjE2bJxanghxBUCQ'}, 'u_r_stars': {'type': 'literal', 'datatype': 'http://www.w3.org/2001/XMLSchema#float', 'value': '2.0'}}, {'r_user': {'type': 'literal', 'value': '7gDAcB7S_kHZUivuibjdVg'}, 'r_b_id': {'type': 'literal', 'value': '-1DE1NuBc3EKfOpEQ6xsHw'}, 'u_b_id': {'type': 'literal', 'value': 'IKdGrMfGsrpsQ_dPPjJttg'}, 'other_r_id': {'type': 'literal', 'value': 'vk8gJjvkNPQTO7WujiLUpg'}, 'u_r_stars': {'type': 'literal', 'datatype': 'http://www.w3.org/2001/XMLSchema#float', 'value': '5.0'}}, {'r_user': {'type': 'literal', 'value': '7gDAcB7S_kHZUivuibjdVg'}, 'r_b_id': {'type': 'literal', 'value': '-1DE1NuBc3EKfOpEQ6xsHw'}, 'u_b_id': {'type': 'literal', 'value': 'hXVUmyvLfI6lmTixw9uKTQ'}, 'other_r_id': {'type': 'literal', 'value': 'zdoDK0KaWdKlhelpe8ngKQ'}, 'u_r_stars': {'type': 'literal', 'datatype': 'http://www.w3.org/2001/XMLSchema#float', 'value': '2.0'}}]\n"
     ]
    }
   ],
   "source": [
    "# WHAT OTHER BUSINESSES DID REVIEWERS REVIEW\n",
    "print(\"\\n------ Other Businesses did reviewrs of a business review -----\")\n",
    "business_id = \"-1DE1NuBc3EKfOpEQ6xsHw\"\n",
    "query_otherreviews = \"\"\"\n",
    "PREFIX myonto: <https://myontology.com#>\n",
    "SELECT *\n",
    "WHERE {\n",
    "  SELECT ?r_user ?r_b_id ?u_b_id ?other_r_id ?u_r_stars   { \n",
    "    # other reviews from users who reviewed X\n",
    "      ?r a myonto:review;\n",
    "          myonto:business_id ?u_b_id ;\n",
    "          myonto:review_id ?other_r_id ;\n",
    "          myonto:user_id ?r_user ; \n",
    "          myonto:stars ?u_r_stars .  \n",
    "        FILTER(?u_b_id != \"%s\")  \n",
    "  {\n",
    "  SELECT ?r_user ?r_b_id\n",
    "  WHERE { # reviews from business X\n",
    "       ?r a myonto:review;\n",
    "            myonto:business_id \"%s\" ;\n",
    "            myonto:business_id ?r_b_id ;\n",
    "            myonto:user_id ?r_user .\n",
    "      }\n",
    "\t  }\n",
    "  }\n",
    "}\n",
    "\"\"\"% (business_id, business_id)\n",
    "results = sparql_query(endpoint=yelp_sparql_endpoint, query=query_otherreviews)\n",
    "print(list(results))\n",
    "# result = list(results)[0]\n",
    "\n",
    "# IN PROGRESS"
   ]
  },
  {
   "cell_type": "code",
   "execution_count": null,
   "metadata": {},
   "outputs": [],
   "source": []
  }
 ],
 "metadata": {
  "interpreter": {
   "hash": "8eb2675a5df9a26a2747e69653555a898d9ac1364378132190ff937f2b249625"
  },
  "kernelspec": {
   "display_name": "Python 3.9.9 64-bit ('venv': venv)",
   "language": "python",
   "name": "python3"
  },
  "language_info": {
   "codemirror_mode": {
    "name": "ipython",
    "version": 3
   },
   "file_extension": ".py",
   "mimetype": "text/x-python",
   "name": "python",
   "nbconvert_exporter": "python",
   "pygments_lexer": "ipython3",
   "version": "3.9.9"
  },
  "orig_nbformat": 4
 },
 "nbformat": 4,
 "nbformat_minor": 2
}
